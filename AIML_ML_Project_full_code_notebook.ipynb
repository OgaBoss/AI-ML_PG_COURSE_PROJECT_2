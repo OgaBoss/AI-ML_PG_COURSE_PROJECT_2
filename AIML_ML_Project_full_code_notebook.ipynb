{
 "cells": [
  {
   "cell_type": "markdown",
   "metadata": {
    "id": "GQ4inoGOw_su"
   },
   "source": [
    "# Machine Learning: AllLife Bank Personal Loan Campaign"
   ]
  },
  {
   "cell_type": "markdown",
   "metadata": {
    "id": "dHp26RRERvXx"
   },
   "source": [
    "## Problem Statement"
   ]
  },
  {
   "cell_type": "markdown",
   "metadata": {
    "id": "m5MpauhvxIh6"
   },
   "source": [
    "### Context\n",
    "\n",
    "AllLife Bank is a US bank that has a growing customer base. The majority of these customers are liability customers (depositors) with varying sizes of deposits. The number of customers who are also borrowers (asset customers) is quite small, and the bank is interested in expanding this base rapidly to bring in more loan business and in the process, earn more through the interest on loans. In particular, the management wants to explore ways of converting its liability customers to personal loan customers (while retaining them as depositors).\n",
    "\n",
    "A campaign that the bank ran last year for liability customers showed a healthy conversion rate of over 9% success. This has encouraged the retail marketing department to devise campaigns with better target marketing to increase the success ratio.\n",
    "\n",
    "You as a Data scientist at AllLife bank have to build a model that will help the marketing department to identify the potential customers who have a higher probability of purchasing the loan."
   ]
  },
  {
   "cell_type": "markdown",
   "metadata": {
    "id": "s4T59mPjxMmc"
   },
   "source": [
    "### Objective\n",
    "\n",
    "To predict whether a liability customer will buy personal loans, to understand which customer attributes are most significant in driving purchases, and identify which segment of customers to target more."
   ]
  },
  {
   "cell_type": "markdown",
   "metadata": {
    "id": "FN8fKs4_xPLS"
   },
   "source": [
    "### Data Dictionary\n",
    "* `ID`: Customer ID\n",
    "* `Age`: Customer’s age in completed years\n",
    "* `Experience`: #years of professional experience\n",
    "* `Income`: Annual income of the customer (in thousand dollars)\n",
    "* `ZIP Code`: Home Address ZIP code.\n",
    "* `Family`: the Family size of the customer\n",
    "* `CCAvg`: Average spending on credit cards per month (in thousand dollars)\n",
    "* `Education`: Education Level. 1: Undergrad; 2: Graduate;3: Advanced/Professional\n",
    "* `Mortgage`: Value of house mortgage if any. (in thousand dollars)\n",
    "* `Personal_Loan`: Did this customer accept the personal loan offered in the last campaign? (0: No, 1: Yes)\n",
    "* `Securities_Account`: Does the customer have securities account with the bank? (0: No, 1: Yes)\n",
    "* `CD_Account`: Does the customer have a certificate of deposit (CD) account with the bank? (0: No, 1: Yes)\n",
    "* `Online`: Do customers use internet banking facilities? (0: No, 1: Yes)\n",
    "* `CreditCard`: Does the customer use a credit card issued by any other Bank (excluding All life Bank)? (0: No, 1: Yes)"
   ]
  },
  {
   "cell_type": "markdown",
   "metadata": {
    "id": "CP-77n_lxyBt"
   },
   "source": [
    "## Importing necessary libraries"
   ]
  },
  {
   "cell_type": "code",
   "source": [
    "# Installing the libraries with the specified version.\n",
    "!pip install numpy==1.25.2 pandas==1.5.3 matplotlib==3.7.1 seaborn==0.13.1 scikit-learn==1.2.2 sklearn-pandas==2.2.0 -q --user"
   ],
   "metadata": {
    "id": "ryFwv2fwXqBw",
    "ExecuteTime": {
     "end_time": "2024-06-08T14:27:57.919138Z",
     "start_time": "2024-06-08T14:27:50.382970Z"
    }
   },
   "outputs": [],
   "execution_count": 1
  },
  {
   "cell_type": "markdown",
   "source": [
    "**Note**: *After running the above cell, kindly restart the notebook kernel and run all cells sequentially from the start again.*"
   ],
   "metadata": {
    "id": "Id5iPySmwVCi"
   }
  },
  {
   "cell_type": "code",
   "metadata": {
    "id": "O36RnISpw679",
    "ExecuteTime": {
     "end_time": "2024-06-08T14:34:52.332022Z",
     "start_time": "2024-06-08T14:34:52.328027Z"
    }
   },
   "source": [
    "import pandas as pd\n",
    "import numpy as np\n",
    "\n",
    "# Visualization libraries\n",
    "import matplotlib.pyplot as plt\n",
    "import seaborn as sns\n",
    "\n",
    "# Remove the limit for the number fo displayed column\n",
    "pd.set_option('display.max_columns', None)\n",
    "# Sets the limit for the number of displayed rows\n",
    "pd.set_option('display.max_rows', 200)\n",
    "# setting the precision of floating numbers to 5 decimal points\n",
    "pd.set_option(\"display.float_format\", lambda x: \"%.5f\" % x)\n",
    "\n",
    "# Library to split data\n",
    "from sklearn.model_selection import train_test_split\n",
    "\n",
    "#Library to build model for prediction\n",
    "from sklearn.tree import DecisionTreeClassifier\n",
    "from sklearn import tree\n",
    "\n",
    "# To tune different models\n",
    "from sklearn.model_selection import GridSearchCV\n",
    "\n",
    "# To get different metric scores\n",
    "from sklearn.metrics import (\n",
    "    f1_score,\n",
    "    accuracy_score,\n",
    "    recall_score,\n",
    "    precision_score,\n",
    "    confusion_matrix,\n",
    "    make_scorer\n",
    ")\n",
    "\n",
    "# To ignore unnecessary warnings\n",
    "import warnings\n",
    "warnings.filterwarnings(\"ignore\")"
   ],
   "outputs": [],
   "execution_count": 4
  },
  {
   "cell_type": "markdown",
   "metadata": {
    "id": "D0cilOy9yeK7"
   },
   "source": [
    "## Loading the dataset"
   ]
  },
  {
   "cell_type": "code",
   "metadata": {
    "id": "veW9EM12yd5M",
    "ExecuteTime": {
     "end_time": "2024-06-08T18:37:42.859583Z",
     "start_time": "2024-06-08T18:37:42.852172Z"
    }
   },
   "source": "df_main = pd.read_csv('Loan_Modelling.csv')",
   "outputs": [],
   "execution_count": 83
  },
  {
   "metadata": {
    "ExecuteTime": {
     "end_time": "2024-06-08T20:16:04.126052Z",
     "start_time": "2024-06-08T20:16:04.120045Z"
    }
   },
   "cell_type": "code",
   "source": "data = df_main.copy()",
   "outputs": [],
   "execution_count": 235
  },
  {
   "cell_type": "markdown",
   "metadata": {
    "id": "vUbDMkrLQb8U"
   },
   "source": [
    "## Data Overview"
   ]
  },
  {
   "metadata": {},
   "cell_type": "markdown",
   "source": "### View the first and last 5 rows of the dataset"
  },
  {
   "metadata": {
    "ExecuteTime": {
     "end_time": "2024-06-08T20:16:05.011727Z",
     "start_time": "2024-06-08T20:16:05.005247Z"
    }
   },
   "cell_type": "code",
   "source": "data.head()",
   "outputs": [
    {
     "data": {
      "text/plain": [
       "   ID  Age  Experience  Income  ZIPCode  Family   CCAvg  Education  Mortgage  \\\n",
       "0   1   25           1      49    91107       4 1.60000          1         0   \n",
       "1   2   45          19      34    90089       3 1.50000          1         0   \n",
       "2   3   39          15      11    94720       1 1.00000          1         0   \n",
       "3   4   35           9     100    94112       1 2.70000          2         0   \n",
       "4   5   35           8      45    91330       4 1.00000          2         0   \n",
       "\n",
       "   Personal_Loan  Securities_Account  CD_Account  Online  CreditCard  \n",
       "0              0                   1           0       0           0  \n",
       "1              0                   1           0       0           0  \n",
       "2              0                   0           0       0           0  \n",
       "3              0                   0           0       0           0  \n",
       "4              0                   0           0       0           1  "
      ],
      "text/html": [
       "<div>\n",
       "<style scoped>\n",
       "    .dataframe tbody tr th:only-of-type {\n",
       "        vertical-align: middle;\n",
       "    }\n",
       "\n",
       "    .dataframe tbody tr th {\n",
       "        vertical-align: top;\n",
       "    }\n",
       "\n",
       "    .dataframe thead th {\n",
       "        text-align: right;\n",
       "    }\n",
       "</style>\n",
       "<table border=\"1\" class=\"dataframe\">\n",
       "  <thead>\n",
       "    <tr style=\"text-align: right;\">\n",
       "      <th></th>\n",
       "      <th>ID</th>\n",
       "      <th>Age</th>\n",
       "      <th>Experience</th>\n",
       "      <th>Income</th>\n",
       "      <th>ZIPCode</th>\n",
       "      <th>Family</th>\n",
       "      <th>CCAvg</th>\n",
       "      <th>Education</th>\n",
       "      <th>Mortgage</th>\n",
       "      <th>Personal_Loan</th>\n",
       "      <th>Securities_Account</th>\n",
       "      <th>CD_Account</th>\n",
       "      <th>Online</th>\n",
       "      <th>CreditCard</th>\n",
       "    </tr>\n",
       "  </thead>\n",
       "  <tbody>\n",
       "    <tr>\n",
       "      <th>0</th>\n",
       "      <td>1</td>\n",
       "      <td>25</td>\n",
       "      <td>1</td>\n",
       "      <td>49</td>\n",
       "      <td>91107</td>\n",
       "      <td>4</td>\n",
       "      <td>1.60000</td>\n",
       "      <td>1</td>\n",
       "      <td>0</td>\n",
       "      <td>0</td>\n",
       "      <td>1</td>\n",
       "      <td>0</td>\n",
       "      <td>0</td>\n",
       "      <td>0</td>\n",
       "    </tr>\n",
       "    <tr>\n",
       "      <th>1</th>\n",
       "      <td>2</td>\n",
       "      <td>45</td>\n",
       "      <td>19</td>\n",
       "      <td>34</td>\n",
       "      <td>90089</td>\n",
       "      <td>3</td>\n",
       "      <td>1.50000</td>\n",
       "      <td>1</td>\n",
       "      <td>0</td>\n",
       "      <td>0</td>\n",
       "      <td>1</td>\n",
       "      <td>0</td>\n",
       "      <td>0</td>\n",
       "      <td>0</td>\n",
       "    </tr>\n",
       "    <tr>\n",
       "      <th>2</th>\n",
       "      <td>3</td>\n",
       "      <td>39</td>\n",
       "      <td>15</td>\n",
       "      <td>11</td>\n",
       "      <td>94720</td>\n",
       "      <td>1</td>\n",
       "      <td>1.00000</td>\n",
       "      <td>1</td>\n",
       "      <td>0</td>\n",
       "      <td>0</td>\n",
       "      <td>0</td>\n",
       "      <td>0</td>\n",
       "      <td>0</td>\n",
       "      <td>0</td>\n",
       "    </tr>\n",
       "    <tr>\n",
       "      <th>3</th>\n",
       "      <td>4</td>\n",
       "      <td>35</td>\n",
       "      <td>9</td>\n",
       "      <td>100</td>\n",
       "      <td>94112</td>\n",
       "      <td>1</td>\n",
       "      <td>2.70000</td>\n",
       "      <td>2</td>\n",
       "      <td>0</td>\n",
       "      <td>0</td>\n",
       "      <td>0</td>\n",
       "      <td>0</td>\n",
       "      <td>0</td>\n",
       "      <td>0</td>\n",
       "    </tr>\n",
       "    <tr>\n",
       "      <th>4</th>\n",
       "      <td>5</td>\n",
       "      <td>35</td>\n",
       "      <td>8</td>\n",
       "      <td>45</td>\n",
       "      <td>91330</td>\n",
       "      <td>4</td>\n",
       "      <td>1.00000</td>\n",
       "      <td>2</td>\n",
       "      <td>0</td>\n",
       "      <td>0</td>\n",
       "      <td>0</td>\n",
       "      <td>0</td>\n",
       "      <td>0</td>\n",
       "      <td>1</td>\n",
       "    </tr>\n",
       "  </tbody>\n",
       "</table>\n",
       "</div>"
      ]
     },
     "execution_count": 236,
     "metadata": {},
     "output_type": "execute_result"
    }
   ],
   "execution_count": 236
  },
  {
   "metadata": {
    "ExecuteTime": {
     "end_time": "2024-06-08T20:16:05.295470Z",
     "start_time": "2024-06-08T20:16:05.291263Z"
    }
   },
   "cell_type": "code",
   "source": "data.tail()",
   "outputs": [
    {
     "data": {
      "text/plain": [
       "        ID  Age  Experience  Income  ZIPCode  Family   CCAvg  Education  \\\n",
       "4995  4996   29           3      40    92697       1 1.90000          3   \n",
       "4996  4997   30           4      15    92037       4 0.40000          1   \n",
       "4997  4998   63          39      24    93023       2 0.30000          3   \n",
       "4998  4999   65          40      49    90034       3 0.50000          2   \n",
       "4999  5000   28           4      83    92612       3 0.80000          1   \n",
       "\n",
       "      Mortgage  Personal_Loan  Securities_Account  CD_Account  Online  \\\n",
       "4995         0              0                   0           0       1   \n",
       "4996        85              0                   0           0       1   \n",
       "4997         0              0                   0           0       0   \n",
       "4998         0              0                   0           0       1   \n",
       "4999         0              0                   0           0       1   \n",
       "\n",
       "      CreditCard  \n",
       "4995           0  \n",
       "4996           0  \n",
       "4997           0  \n",
       "4998           0  \n",
       "4999           1  "
      ],
      "text/html": [
       "<div>\n",
       "<style scoped>\n",
       "    .dataframe tbody tr th:only-of-type {\n",
       "        vertical-align: middle;\n",
       "    }\n",
       "\n",
       "    .dataframe tbody tr th {\n",
       "        vertical-align: top;\n",
       "    }\n",
       "\n",
       "    .dataframe thead th {\n",
       "        text-align: right;\n",
       "    }\n",
       "</style>\n",
       "<table border=\"1\" class=\"dataframe\">\n",
       "  <thead>\n",
       "    <tr style=\"text-align: right;\">\n",
       "      <th></th>\n",
       "      <th>ID</th>\n",
       "      <th>Age</th>\n",
       "      <th>Experience</th>\n",
       "      <th>Income</th>\n",
       "      <th>ZIPCode</th>\n",
       "      <th>Family</th>\n",
       "      <th>CCAvg</th>\n",
       "      <th>Education</th>\n",
       "      <th>Mortgage</th>\n",
       "      <th>Personal_Loan</th>\n",
       "      <th>Securities_Account</th>\n",
       "      <th>CD_Account</th>\n",
       "      <th>Online</th>\n",
       "      <th>CreditCard</th>\n",
       "    </tr>\n",
       "  </thead>\n",
       "  <tbody>\n",
       "    <tr>\n",
       "      <th>4995</th>\n",
       "      <td>4996</td>\n",
       "      <td>29</td>\n",
       "      <td>3</td>\n",
       "      <td>40</td>\n",
       "      <td>92697</td>\n",
       "      <td>1</td>\n",
       "      <td>1.90000</td>\n",
       "      <td>3</td>\n",
       "      <td>0</td>\n",
       "      <td>0</td>\n",
       "      <td>0</td>\n",
       "      <td>0</td>\n",
       "      <td>1</td>\n",
       "      <td>0</td>\n",
       "    </tr>\n",
       "    <tr>\n",
       "      <th>4996</th>\n",
       "      <td>4997</td>\n",
       "      <td>30</td>\n",
       "      <td>4</td>\n",
       "      <td>15</td>\n",
       "      <td>92037</td>\n",
       "      <td>4</td>\n",
       "      <td>0.40000</td>\n",
       "      <td>1</td>\n",
       "      <td>85</td>\n",
       "      <td>0</td>\n",
       "      <td>0</td>\n",
       "      <td>0</td>\n",
       "      <td>1</td>\n",
       "      <td>0</td>\n",
       "    </tr>\n",
       "    <tr>\n",
       "      <th>4997</th>\n",
       "      <td>4998</td>\n",
       "      <td>63</td>\n",
       "      <td>39</td>\n",
       "      <td>24</td>\n",
       "      <td>93023</td>\n",
       "      <td>2</td>\n",
       "      <td>0.30000</td>\n",
       "      <td>3</td>\n",
       "      <td>0</td>\n",
       "      <td>0</td>\n",
       "      <td>0</td>\n",
       "      <td>0</td>\n",
       "      <td>0</td>\n",
       "      <td>0</td>\n",
       "    </tr>\n",
       "    <tr>\n",
       "      <th>4998</th>\n",
       "      <td>4999</td>\n",
       "      <td>65</td>\n",
       "      <td>40</td>\n",
       "      <td>49</td>\n",
       "      <td>90034</td>\n",
       "      <td>3</td>\n",
       "      <td>0.50000</td>\n",
       "      <td>2</td>\n",
       "      <td>0</td>\n",
       "      <td>0</td>\n",
       "      <td>0</td>\n",
       "      <td>0</td>\n",
       "      <td>1</td>\n",
       "      <td>0</td>\n",
       "    </tr>\n",
       "    <tr>\n",
       "      <th>4999</th>\n",
       "      <td>5000</td>\n",
       "      <td>28</td>\n",
       "      <td>4</td>\n",
       "      <td>83</td>\n",
       "      <td>92612</td>\n",
       "      <td>3</td>\n",
       "      <td>0.80000</td>\n",
       "      <td>1</td>\n",
       "      <td>0</td>\n",
       "      <td>0</td>\n",
       "      <td>0</td>\n",
       "      <td>0</td>\n",
       "      <td>1</td>\n",
       "      <td>1</td>\n",
       "    </tr>\n",
       "  </tbody>\n",
       "</table>\n",
       "</div>"
      ]
     },
     "execution_count": 237,
     "metadata": {},
     "output_type": "execute_result"
    }
   ],
   "execution_count": 237
  },
  {
   "metadata": {
    "ExecuteTime": {
     "end_time": "2024-06-08T20:16:05.568671Z",
     "start_time": "2024-06-08T20:16:05.566347Z"
    }
   },
   "cell_type": "code",
   "source": "data.shape",
   "outputs": [
    {
     "data": {
      "text/plain": [
       "(5000, 14)"
      ]
     },
     "execution_count": 238,
     "metadata": {},
     "output_type": "execute_result"
    }
   ],
   "execution_count": 238
  },
  {
   "metadata": {
    "ExecuteTime": {
     "end_time": "2024-06-08T20:16:05.845653Z",
     "start_time": "2024-06-08T20:16:05.843050Z"
    }
   },
   "cell_type": "code",
   "source": "data['ID'].nunique()",
   "outputs": [
    {
     "data": {
      "text/plain": [
       "5000"
      ]
     },
     "execution_count": 239,
     "metadata": {},
     "output_type": "execute_result"
    }
   ],
   "execution_count": 239
  },
  {
   "metadata": {},
   "cell_type": "markdown",
   "source": [
    "* ID column is unique, this means we have data for 5000 unique bank customers\n",
    "* We have 14 columns"
   ]
  },
  {
   "metadata": {},
   "cell_type": "markdown",
   "source": "### Check the data types of the columns for the dataset."
  },
  {
   "metadata": {
    "ExecuteTime": {
     "end_time": "2024-06-08T20:16:06.679313Z",
     "start_time": "2024-06-08T20:16:06.674458Z"
    }
   },
   "cell_type": "code",
   "source": "data.info()",
   "outputs": [
    {
     "name": "stdout",
     "output_type": "stream",
     "text": [
      "<class 'pandas.core.frame.DataFrame'>\n",
      "RangeIndex: 5000 entries, 0 to 4999\n",
      "Data columns (total 14 columns):\n",
      " #   Column              Non-Null Count  Dtype  \n",
      "---  ------              --------------  -----  \n",
      " 0   ID                  5000 non-null   int64  \n",
      " 1   Age                 5000 non-null   int64  \n",
      " 2   Experience          5000 non-null   int64  \n",
      " 3   Income              5000 non-null   int64  \n",
      " 4   ZIPCode             5000 non-null   int64  \n",
      " 5   Family              5000 non-null   int64  \n",
      " 6   CCAvg               5000 non-null   float64\n",
      " 7   Education           5000 non-null   int64  \n",
      " 8   Mortgage            5000 non-null   int64  \n",
      " 9   Personal_Loan       5000 non-null   int64  \n",
      " 10  Securities_Account  5000 non-null   int64  \n",
      " 11  CD_Account          5000 non-null   int64  \n",
      " 12  Online              5000 non-null   int64  \n",
      " 13  CreditCard          5000 non-null   int64  \n",
      "dtypes: float64(1), int64(13)\n",
      "memory usage: 547.0 KB\n"
     ]
    }
   ],
   "execution_count": 240
  },
  {
   "metadata": {},
   "cell_type": "markdown",
   "source": "### Checking for missing values"
  },
  {
   "metadata": {
    "ExecuteTime": {
     "end_time": "2024-06-08T20:16:07.384034Z",
     "start_time": "2024-06-08T20:16:07.377836Z"
    }
   },
   "cell_type": "code",
   "source": "data.isnull().sum()",
   "outputs": [
    {
     "data": {
      "text/plain": [
       "ID                    0\n",
       "Age                   0\n",
       "Experience            0\n",
       "Income                0\n",
       "ZIPCode               0\n",
       "Family                0\n",
       "CCAvg                 0\n",
       "Education             0\n",
       "Mortgage              0\n",
       "Personal_Loan         0\n",
       "Securities_Account    0\n",
       "CD_Account            0\n",
       "Online                0\n",
       "CreditCard            0\n",
       "dtype: int64"
      ]
     },
     "execution_count": 241,
     "metadata": {},
     "output_type": "execute_result"
    }
   ],
   "execution_count": 241
  },
  {
   "metadata": {},
   "cell_type": "markdown",
   "source": "* We do not have any missing data from any colum"
  },
  {
   "metadata": {},
   "cell_type": "markdown",
   "source": "### Dropping the duplicate values"
  },
  {
   "metadata": {
    "ExecuteTime": {
     "end_time": "2024-06-08T20:16:08.536923Z",
     "start_time": "2024-06-08T20:16:08.533561Z"
    }
   },
   "cell_type": "code",
   "source": "data.duplicated().sum()",
   "outputs": [
    {
     "data": {
      "text/plain": [
       "0"
      ]
     },
     "execution_count": 242,
     "metadata": {},
     "output_type": "execute_result"
    }
   ],
   "execution_count": 242
  },
  {
   "cell_type": "markdown",
   "metadata": {
    "id": "yPQbY4cIQaK4"
   },
   "source": "* There are no duplicate values in the data."
  },
  {
   "metadata": {},
   "cell_type": "markdown",
   "source": "#### Dropping the columns with all unique values"
  },
  {
   "cell_type": "code",
   "metadata": {
    "id": "EKrLdS4fZmpk",
    "ExecuteTime": {
     "end_time": "2024-06-08T20:16:09.617536Z",
     "start_time": "2024-06-08T20:16:09.613188Z"
    }
   },
   "source": [
    "data = data.drop([\"ID\"], axis=1)\n",
    "data.head()"
   ],
   "outputs": [
    {
     "data": {
      "text/plain": [
       "   Age  Experience  Income  ZIPCode  Family   CCAvg  Education  Mortgage  \\\n",
       "0   25           1      49    91107       4 1.60000          1         0   \n",
       "1   45          19      34    90089       3 1.50000          1         0   \n",
       "2   39          15      11    94720       1 1.00000          1         0   \n",
       "3   35           9     100    94112       1 2.70000          2         0   \n",
       "4   35           8      45    91330       4 1.00000          2         0   \n",
       "\n",
       "   Personal_Loan  Securities_Account  CD_Account  Online  CreditCard  \n",
       "0              0                   1           0       0           0  \n",
       "1              0                   1           0       0           0  \n",
       "2              0                   0           0       0           0  \n",
       "3              0                   0           0       0           0  \n",
       "4              0                   0           0       0           1  "
      ],
      "text/html": [
       "<div>\n",
       "<style scoped>\n",
       "    .dataframe tbody tr th:only-of-type {\n",
       "        vertical-align: middle;\n",
       "    }\n",
       "\n",
       "    .dataframe tbody tr th {\n",
       "        vertical-align: top;\n",
       "    }\n",
       "\n",
       "    .dataframe thead th {\n",
       "        text-align: right;\n",
       "    }\n",
       "</style>\n",
       "<table border=\"1\" class=\"dataframe\">\n",
       "  <thead>\n",
       "    <tr style=\"text-align: right;\">\n",
       "      <th></th>\n",
       "      <th>Age</th>\n",
       "      <th>Experience</th>\n",
       "      <th>Income</th>\n",
       "      <th>ZIPCode</th>\n",
       "      <th>Family</th>\n",
       "      <th>CCAvg</th>\n",
       "      <th>Education</th>\n",
       "      <th>Mortgage</th>\n",
       "      <th>Personal_Loan</th>\n",
       "      <th>Securities_Account</th>\n",
       "      <th>CD_Account</th>\n",
       "      <th>Online</th>\n",
       "      <th>CreditCard</th>\n",
       "    </tr>\n",
       "  </thead>\n",
       "  <tbody>\n",
       "    <tr>\n",
       "      <th>0</th>\n",
       "      <td>25</td>\n",
       "      <td>1</td>\n",
       "      <td>49</td>\n",
       "      <td>91107</td>\n",
       "      <td>4</td>\n",
       "      <td>1.60000</td>\n",
       "      <td>1</td>\n",
       "      <td>0</td>\n",
       "      <td>0</td>\n",
       "      <td>1</td>\n",
       "      <td>0</td>\n",
       "      <td>0</td>\n",
       "      <td>0</td>\n",
       "    </tr>\n",
       "    <tr>\n",
       "      <th>1</th>\n",
       "      <td>45</td>\n",
       "      <td>19</td>\n",
       "      <td>34</td>\n",
       "      <td>90089</td>\n",
       "      <td>3</td>\n",
       "      <td>1.50000</td>\n",
       "      <td>1</td>\n",
       "      <td>0</td>\n",
       "      <td>0</td>\n",
       "      <td>1</td>\n",
       "      <td>0</td>\n",
       "      <td>0</td>\n",
       "      <td>0</td>\n",
       "    </tr>\n",
       "    <tr>\n",
       "      <th>2</th>\n",
       "      <td>39</td>\n",
       "      <td>15</td>\n",
       "      <td>11</td>\n",
       "      <td>94720</td>\n",
       "      <td>1</td>\n",
       "      <td>1.00000</td>\n",
       "      <td>1</td>\n",
       "      <td>0</td>\n",
       "      <td>0</td>\n",
       "      <td>0</td>\n",
       "      <td>0</td>\n",
       "      <td>0</td>\n",
       "      <td>0</td>\n",
       "    </tr>\n",
       "    <tr>\n",
       "      <th>3</th>\n",
       "      <td>35</td>\n",
       "      <td>9</td>\n",
       "      <td>100</td>\n",
       "      <td>94112</td>\n",
       "      <td>1</td>\n",
       "      <td>2.70000</td>\n",
       "      <td>2</td>\n",
       "      <td>0</td>\n",
       "      <td>0</td>\n",
       "      <td>0</td>\n",
       "      <td>0</td>\n",
       "      <td>0</td>\n",
       "      <td>0</td>\n",
       "    </tr>\n",
       "    <tr>\n",
       "      <th>4</th>\n",
       "      <td>35</td>\n",
       "      <td>8</td>\n",
       "      <td>45</td>\n",
       "      <td>91330</td>\n",
       "      <td>4</td>\n",
       "      <td>1.00000</td>\n",
       "      <td>2</td>\n",
       "      <td>0</td>\n",
       "      <td>0</td>\n",
       "      <td>0</td>\n",
       "      <td>0</td>\n",
       "      <td>0</td>\n",
       "      <td>1</td>\n",
       "    </tr>\n",
       "  </tbody>\n",
       "</table>\n",
       "</div>"
      ]
     },
     "execution_count": 243,
     "metadata": {},
     "output_type": "execute_result"
    }
   ],
   "execution_count": 243
  },
  {
   "metadata": {},
   "cell_type": "markdown",
   "source": "### Statistical summary of the data"
  },
  {
   "metadata": {},
   "cell_type": "markdown",
   "source": "**Check for dataset anomalies.**"
  },
  {
   "metadata": {
    "ExecuteTime": {
     "end_time": "2024-06-08T20:16:11.199609Z",
     "start_time": "2024-06-08T20:16:11.196105Z"
    }
   },
   "cell_type": "code",
   "source": "data[\"Experience\"].unique()",
   "outputs": [
    {
     "data": {
      "text/plain": [
       "array([ 1, 19, 15,  9,  8, 13, 27, 24, 10, 39,  5, 23, 32, 41, 30, 14, 18,\n",
       "       21, 28, 31, 11, 16, 20, 35,  6, 25,  7, 12, 26, 37, 17,  2, 36, 29,\n",
       "        3, 22, -1, 34,  0, 38, 40, 33,  4, -2, 42, -3, 43])"
      ]
     },
     "execution_count": 244,
     "metadata": {},
     "output_type": "execute_result"
    }
   ],
   "execution_count": 244
  },
  {
   "metadata": {},
   "cell_type": "markdown",
   "source": [
    "* Since Experience is in years, we cannot have negative values. (We are assuming this is a typo from the data entry)\n",
    "* Sop we convert those to the positive value."
   ]
  },
  {
   "metadata": {
    "ExecuteTime": {
     "end_time": "2024-06-08T20:16:12.371947Z",
     "start_time": "2024-06-08T20:16:12.369188Z"
    }
   },
   "cell_type": "code",
   "source": "data[data[\"Experience\"] < 0 ][\"Experience\"].unique()",
   "outputs": [
    {
     "data": {
      "text/plain": [
       "array([-1, -2, -3])"
      ]
     },
     "execution_count": 245,
     "metadata": {},
     "output_type": "execute_result"
    }
   ],
   "execution_count": 245
  },
  {
   "metadata": {
    "ExecuteTime": {
     "end_time": "2024-06-08T20:16:17.096839Z",
     "start_time": "2024-06-08T20:16:17.092292Z"
    }
   },
   "cell_type": "code",
   "source": [
    "data.loc[data[\"Experience\"] == -1 , \"Experience\"] = 1\n",
    "data.loc[data[\"Experience\"] == -2 , \"Experience\"] = 2\n",
    "data.loc[data[\"Experience\"] == -3 , \"Experience\"] = 3\n",
    "\n",
    "data[data[\"Experience\"] < 0 ][\"Experience\"].unique()"
   ],
   "outputs": [
    {
     "data": {
      "text/plain": [
       "array([], dtype=int64)"
      ]
     },
     "execution_count": 246,
     "metadata": {},
     "output_type": "execute_result"
    }
   ],
   "execution_count": 246
  },
  {
   "metadata": {},
   "cell_type": "markdown",
   "source": "**Fix categorical columns**"
  },
  {
   "metadata": {
    "ExecuteTime": {
     "end_time": "2024-06-08T20:16:17.916347Z",
     "start_time": "2024-06-08T20:16:17.912243Z"
    }
   },
   "cell_type": "code",
   "source": [
    "# Convert Education column to categorical value\n",
    "data[\"Education\"].unique()"
   ],
   "outputs": [
    {
     "data": {
      "text/plain": [
       "array([1, 2, 3])"
      ]
     },
     "execution_count": 247,
     "metadata": {},
     "output_type": "execute_result"
    }
   ],
   "execution_count": 247
  },
  {
   "metadata": {
    "ExecuteTime": {
     "end_time": "2024-06-08T20:16:18.337985Z",
     "start_time": "2024-06-08T20:16:18.333136Z"
    }
   },
   "cell_type": "code",
   "source": [
    "data[\"ZIPCode\"] = data[\"ZIPCode\"].astype(str)\n",
    "print(\n",
    "    \"Number of unique values if we take first two digits of ZIPCode: \",\n",
    "    data[\"ZIPCode\"].str[0:2].nunique(),\n",
    ")\n",
    "data[\"ZIPCode\"] = data[\"ZIPCode\"].str[0:2]\n"
   ],
   "outputs": [
    {
     "name": "stdout",
     "output_type": "stream",
     "text": [
      "Number of unique values if we take first two digits of ZIPCode:  7\n"
     ]
    }
   ],
   "execution_count": 248
  },
  {
   "metadata": {
    "ExecuteTime": {
     "end_time": "2024-06-08T20:16:21.865655Z",
     "start_time": "2024-06-08T20:16:21.855543Z"
    }
   },
   "cell_type": "code",
   "source": [
    "# Convert datatype to category for categorical columns\n",
    "cat_cols = [\n",
    "    \"Education\",\n",
    "    \"Personal_Loan\",\n",
    "    \"Securities_Account\",\n",
    "    \"CD_Account\",\n",
    "    \"Online\",\n",
    "    \"CreditCard\",\n",
    "    \"ZIPCode\",\n",
    "]\n",
    "\n",
    "data[cat_cols] = data[cat_cols].astype(\"category\")\n",
    "data.head()"
   ],
   "outputs": [
    {
     "data": {
      "text/plain": [
       "   Age  Experience  Income ZIPCode  Family   CCAvg Education  Mortgage  \\\n",
       "0   25           1      49      91       4 1.60000         1         0   \n",
       "1   45          19      34      90       3 1.50000         1         0   \n",
       "2   39          15      11      94       1 1.00000         1         0   \n",
       "3   35           9     100      94       1 2.70000         2         0   \n",
       "4   35           8      45      91       4 1.00000         2         0   \n",
       "\n",
       "  Personal_Loan Securities_Account CD_Account Online CreditCard  \n",
       "0             0                  1          0      0          0  \n",
       "1             0                  1          0      0          0  \n",
       "2             0                  0          0      0          0  \n",
       "3             0                  0          0      0          0  \n",
       "4             0                  0          0      0          1  "
      ],
      "text/html": [
       "<div>\n",
       "<style scoped>\n",
       "    .dataframe tbody tr th:only-of-type {\n",
       "        vertical-align: middle;\n",
       "    }\n",
       "\n",
       "    .dataframe tbody tr th {\n",
       "        vertical-align: top;\n",
       "    }\n",
       "\n",
       "    .dataframe thead th {\n",
       "        text-align: right;\n",
       "    }\n",
       "</style>\n",
       "<table border=\"1\" class=\"dataframe\">\n",
       "  <thead>\n",
       "    <tr style=\"text-align: right;\">\n",
       "      <th></th>\n",
       "      <th>Age</th>\n",
       "      <th>Experience</th>\n",
       "      <th>Income</th>\n",
       "      <th>ZIPCode</th>\n",
       "      <th>Family</th>\n",
       "      <th>CCAvg</th>\n",
       "      <th>Education</th>\n",
       "      <th>Mortgage</th>\n",
       "      <th>Personal_Loan</th>\n",
       "      <th>Securities_Account</th>\n",
       "      <th>CD_Account</th>\n",
       "      <th>Online</th>\n",
       "      <th>CreditCard</th>\n",
       "    </tr>\n",
       "  </thead>\n",
       "  <tbody>\n",
       "    <tr>\n",
       "      <th>0</th>\n",
       "      <td>25</td>\n",
       "      <td>1</td>\n",
       "      <td>49</td>\n",
       "      <td>91</td>\n",
       "      <td>4</td>\n",
       "      <td>1.60000</td>\n",
       "      <td>1</td>\n",
       "      <td>0</td>\n",
       "      <td>0</td>\n",
       "      <td>1</td>\n",
       "      <td>0</td>\n",
       "      <td>0</td>\n",
       "      <td>0</td>\n",
       "    </tr>\n",
       "    <tr>\n",
       "      <th>1</th>\n",
       "      <td>45</td>\n",
       "      <td>19</td>\n",
       "      <td>34</td>\n",
       "      <td>90</td>\n",
       "      <td>3</td>\n",
       "      <td>1.50000</td>\n",
       "      <td>1</td>\n",
       "      <td>0</td>\n",
       "      <td>0</td>\n",
       "      <td>1</td>\n",
       "      <td>0</td>\n",
       "      <td>0</td>\n",
       "      <td>0</td>\n",
       "    </tr>\n",
       "    <tr>\n",
       "      <th>2</th>\n",
       "      <td>39</td>\n",
       "      <td>15</td>\n",
       "      <td>11</td>\n",
       "      <td>94</td>\n",
       "      <td>1</td>\n",
       "      <td>1.00000</td>\n",
       "      <td>1</td>\n",
       "      <td>0</td>\n",
       "      <td>0</td>\n",
       "      <td>0</td>\n",
       "      <td>0</td>\n",
       "      <td>0</td>\n",
       "      <td>0</td>\n",
       "    </tr>\n",
       "    <tr>\n",
       "      <th>3</th>\n",
       "      <td>35</td>\n",
       "      <td>9</td>\n",
       "      <td>100</td>\n",
       "      <td>94</td>\n",
       "      <td>1</td>\n",
       "      <td>2.70000</td>\n",
       "      <td>2</td>\n",
       "      <td>0</td>\n",
       "      <td>0</td>\n",
       "      <td>0</td>\n",
       "      <td>0</td>\n",
       "      <td>0</td>\n",
       "      <td>0</td>\n",
       "    </tr>\n",
       "    <tr>\n",
       "      <th>4</th>\n",
       "      <td>35</td>\n",
       "      <td>8</td>\n",
       "      <td>45</td>\n",
       "      <td>91</td>\n",
       "      <td>4</td>\n",
       "      <td>1.00000</td>\n",
       "      <td>2</td>\n",
       "      <td>0</td>\n",
       "      <td>0</td>\n",
       "      <td>0</td>\n",
       "      <td>0</td>\n",
       "      <td>0</td>\n",
       "      <td>1</td>\n",
       "    </tr>\n",
       "  </tbody>\n",
       "</table>\n",
       "</div>"
      ]
     },
     "execution_count": 249,
     "metadata": {},
     "output_type": "execute_result"
    }
   ],
   "execution_count": 249
  },
  {
   "metadata": {},
   "cell_type": "markdown",
   "source": "**Let's check the statistical summary of the data.**"
  },
  {
   "metadata": {
    "ExecuteTime": {
     "end_time": "2024-06-08T20:16:58.541244Z",
     "start_time": "2024-06-08T20:16:58.532990Z"
    }
   },
   "cell_type": "code",
   "source": "data.describe().T",
   "outputs": [
    {
     "data": {
      "text/plain": [
       "                count     mean       std      min      25%      50%       75%  \\\n",
       "Age        5000.00000 45.33840  11.46317 23.00000 35.00000 45.00000  55.00000   \n",
       "Experience 5000.00000 20.13460  11.41519  0.00000 10.00000 20.00000  30.00000   \n",
       "Income     5000.00000 73.77420  46.03373  8.00000 39.00000 64.00000  98.00000   \n",
       "Family     5000.00000  2.39640   1.14766  1.00000  1.00000  2.00000   3.00000   \n",
       "CCAvg      5000.00000  1.93794   1.74766  0.00000  0.70000  1.50000   2.50000   \n",
       "Mortgage   5000.00000 56.49880 101.71380  0.00000  0.00000  0.00000 101.00000   \n",
       "\n",
       "                 max  \n",
       "Age         67.00000  \n",
       "Experience  43.00000  \n",
       "Income     224.00000  \n",
       "Family       4.00000  \n",
       "CCAvg       10.00000  \n",
       "Mortgage   635.00000  "
      ],
      "text/html": [
       "<div>\n",
       "<style scoped>\n",
       "    .dataframe tbody tr th:only-of-type {\n",
       "        vertical-align: middle;\n",
       "    }\n",
       "\n",
       "    .dataframe tbody tr th {\n",
       "        vertical-align: top;\n",
       "    }\n",
       "\n",
       "    .dataframe thead th {\n",
       "        text-align: right;\n",
       "    }\n",
       "</style>\n",
       "<table border=\"1\" class=\"dataframe\">\n",
       "  <thead>\n",
       "    <tr style=\"text-align: right;\">\n",
       "      <th></th>\n",
       "      <th>count</th>\n",
       "      <th>mean</th>\n",
       "      <th>std</th>\n",
       "      <th>min</th>\n",
       "      <th>25%</th>\n",
       "      <th>50%</th>\n",
       "      <th>75%</th>\n",
       "      <th>max</th>\n",
       "    </tr>\n",
       "  </thead>\n",
       "  <tbody>\n",
       "    <tr>\n",
       "      <th>Age</th>\n",
       "      <td>5000.00000</td>\n",
       "      <td>45.33840</td>\n",
       "      <td>11.46317</td>\n",
       "      <td>23.00000</td>\n",
       "      <td>35.00000</td>\n",
       "      <td>45.00000</td>\n",
       "      <td>55.00000</td>\n",
       "      <td>67.00000</td>\n",
       "    </tr>\n",
       "    <tr>\n",
       "      <th>Experience</th>\n",
       "      <td>5000.00000</td>\n",
       "      <td>20.13460</td>\n",
       "      <td>11.41519</td>\n",
       "      <td>0.00000</td>\n",
       "      <td>10.00000</td>\n",
       "      <td>20.00000</td>\n",
       "      <td>30.00000</td>\n",
       "      <td>43.00000</td>\n",
       "    </tr>\n",
       "    <tr>\n",
       "      <th>Income</th>\n",
       "      <td>5000.00000</td>\n",
       "      <td>73.77420</td>\n",
       "      <td>46.03373</td>\n",
       "      <td>8.00000</td>\n",
       "      <td>39.00000</td>\n",
       "      <td>64.00000</td>\n",
       "      <td>98.00000</td>\n",
       "      <td>224.00000</td>\n",
       "    </tr>\n",
       "    <tr>\n",
       "      <th>Family</th>\n",
       "      <td>5000.00000</td>\n",
       "      <td>2.39640</td>\n",
       "      <td>1.14766</td>\n",
       "      <td>1.00000</td>\n",
       "      <td>1.00000</td>\n",
       "      <td>2.00000</td>\n",
       "      <td>3.00000</td>\n",
       "      <td>4.00000</td>\n",
       "    </tr>\n",
       "    <tr>\n",
       "      <th>CCAvg</th>\n",
       "      <td>5000.00000</td>\n",
       "      <td>1.93794</td>\n",
       "      <td>1.74766</td>\n",
       "      <td>0.00000</td>\n",
       "      <td>0.70000</td>\n",
       "      <td>1.50000</td>\n",
       "      <td>2.50000</td>\n",
       "      <td>10.00000</td>\n",
       "    </tr>\n",
       "    <tr>\n",
       "      <th>Mortgage</th>\n",
       "      <td>5000.00000</td>\n",
       "      <td>56.49880</td>\n",
       "      <td>101.71380</td>\n",
       "      <td>0.00000</td>\n",
       "      <td>0.00000</td>\n",
       "      <td>0.00000</td>\n",
       "      <td>101.00000</td>\n",
       "      <td>635.00000</td>\n",
       "    </tr>\n",
       "  </tbody>\n",
       "</table>\n",
       "</div>"
      ]
     },
     "execution_count": 250,
     "metadata": {},
     "output_type": "execute_result"
    }
   ],
   "execution_count": 250
  },
  {
   "metadata": {},
   "cell_type": "markdown",
   "source": [
    "* The `income` ranges from 8 thousand to 224 thousand\n",
    "* The `family` count ranges from 1 to 4"
   ]
  },
  {
   "cell_type": "markdown",
   "metadata": {
    "id": "9KgxRHBOy6fn"
   },
   "source": [
    "## Exploratory Data Analysis."
   ]
  },
  {
   "cell_type": "markdown",
   "metadata": {
    "id": "5w7PtDMazCRh"
   },
   "source": [
    "- EDA is an important part of any project involving data.\n",
    "- It is important to investigate and understand the data better before building a model with it.\n",
    "- A few questions have been mentioned below which will help you approach the analysis in the right manner and generate insights from the data.\n",
    "- A thorough analysis of the data, in addition to the questions mentioned below, should be done."
   ]
  },
  {
   "cell_type": "markdown",
   "metadata": {
    "id": "CjVNBJWozGSA"
   },
   "source": [
    "**Questions**:\n",
    "\n",
    "1. What is the distribution of mortgage attribute? Are there any noticeable patterns or outliers in the distribution?\n",
    "2. How many customers have credit cards?\n",
    "3. What are the attributes that have a strong correlation with the target attribute (personal loan)?\n",
    "4. How does a customer's interest in purchasing a loan vary with their age?\n",
    "5. How does a customer's interest in purchasing a loan vary with their education?"
   ]
  },
  {
   "metadata": {},
   "cell_type": "markdown",
   "source": "**The below functions need to be defined to carry out the EDA.**"
  },
  {
   "cell_type": "code",
   "metadata": {
    "id": "KY7_qg7Cymt2",
    "ExecuteTime": {
     "end_time": "2024-06-08T20:58:53.672673Z",
     "start_time": "2024-06-08T20:58:53.666908Z"
    }
   },
   "source": [
    "def histogram_boxplot(df, feature, figsize=(15, 10), kde=False, bins=None):\n",
    "    \"\"\"\n",
    "    Boxplot and histogram combined\n",
    "\n",
    "    data: dataframe\n",
    "    feature: dataframe column\n",
    "    figsize: size of figure (default (15,10))\n",
    "    kde: whether to show the density curve (default False)\n",
    "    bins: number of bins for histogram (default None)\n",
    "    \"\"\"\n",
    "    f2, (ax_box2, ax_hist2) = plt.subplots(\n",
    "        nrows=2,  # Number of rows of the subplot grid= 2\n",
    "        sharex=True,  # x-axis will be shared among all subplots\n",
    "        gridspec_kw={\"height_ratios\": (0.25, 0.75)},\n",
    "        figsize=figsize,\n",
    "    )  # creating the 2 subplots\n",
    "    sns.boxplot(\n",
    "        data=df, x=feature, ax=ax_box2, showmeans=True, color=\"violet\"\n",
    "    )  # boxplot will be created and a triangle will indicate the mean value of the column\n",
    "    sns.histplot(\n",
    "        data=df, x=feature, kde=kde, ax=ax_hist2, bins=bins\n",
    "    ) if bins else sns.histplot(\n",
    "        data=df, x=feature, kde=kde, ax=ax_hist2\n",
    "    )  # For histogram\n",
    "    ax_hist2.axvline(\n",
    "        df[feature].mean(), color=\"green\", linestyle=\"--\"\n",
    "    )  # Add mean to the histogram\n",
    "    ax_hist2.axvline(\n",
    "        df[feature].median(), color=\"black\", linestyle=\"-\"\n",
    "    )  # Add median to the histogram"
   ],
   "outputs": [],
   "execution_count": 251
  },
  {
   "metadata": {
    "ExecuteTime": {
     "end_time": "2024-06-08T20:58:55.558281Z",
     "start_time": "2024-06-08T20:58:55.554230Z"
    }
   },
   "cell_type": "code",
   "source": [
    "# function to create labeled barplots\n",
    "def labeled_barplot(df, feature, perc=False, n=None):\n",
    "    \"\"\"\n",
    "    Barplot with percentage at the top\n",
    "\n",
    "    data: dataframe\n",
    "    feature: dataframe column\n",
    "    perc: whether to display percentages instead of count (default is False)\n",
    "    n: displays the top n category levels (default is None, i.e., display all levels)\n",
    "    \"\"\"\n",
    "\n",
    "    total = len(df[feature])  # length of the column\n",
    "    count = df[feature].nunique()\n",
    "    if n is None:\n",
    "        plt.figure(figsize=(count + 2, 6))\n",
    "    else:\n",
    "        plt.figure(figsize=(n + 2, 6))\n",
    "\n",
    "    plt.xticks(rotation=90, fontsize=15)\n",
    "    ax = sns.countplot(\n",
    "        data=df,\n",
    "        x=feature,\n",
    "        palette=\"Paired\",\n",
    "        order=data[feature].value_counts().index[:n],\n",
    "    )\n",
    "\n",
    "    for p in ax.patches:\n",
    "        if perc:\n",
    "            label = \"{:.1f}%\".format(\n",
    "                100 * p.get_height() / total\n",
    "            )  # percentage of each class of the category\n",
    "        else:\n",
    "            label = p.get_height()  # count of each level of the category\n",
    "\n",
    "        x = p.get_x() + p.get_width() / 2  # width of the plot\n",
    "        y = p.get_height()  # height of the plot\n",
    "\n",
    "        ax.annotate(\n",
    "            label,\n",
    "            (x, y),\n",
    "            ha=\"center\",\n",
    "            va=\"center\",\n",
    "            size=12,\n",
    "            xytext=(0, 5),\n",
    "            textcoords=\"offset points\",\n",
    "        )  # annotate the percentage\n",
    "\n",
    "    plt.show()  # show the plot"
   ],
   "outputs": [],
   "execution_count": 252
  },
  {
   "cell_type": "markdown",
   "metadata": {
    "id": "ZCM6avoA39FB"
   },
   "source": [
    "## Data Preprocessing"
   ]
  },
  {
   "cell_type": "markdown",
   "metadata": {
    "id": "GxmVZXfCfNnc"
   },
   "source": [
    "* Missing value treatment\n",
    "* Feature engineering (if needed)\n",
    "* Outlier detection and treatment (if needed)\n",
    "* Preparing data for modeling\n",
    "* Any other preprocessing steps (if needed)"
   ]
  },
  {
   "cell_type": "code",
   "execution_count": null,
   "metadata": {
    "id": "q6D5tdDiymfd"
   },
   "outputs": [],
   "source": []
  },
  {
   "cell_type": "markdown",
   "metadata": {
    "id": "f4lwYN5bYmHp"
   },
   "source": [
    "## Model Building"
   ]
  },
  {
   "cell_type": "markdown",
   "metadata": {
    "id": "I8KXyX2cYnxg"
   },
   "source": [
    "### Model Evaluation Criterion"
   ]
  },
  {
   "cell_type": "markdown",
   "metadata": {
    "id": "s9-hADbhYrdc"
   },
   "source": [
    "*\n"
   ]
  },
  {
   "cell_type": "markdown",
   "metadata": {
    "id": "n0zOSq9mieSG"
   },
   "source": [
    "### Model Building"
   ]
  },
  {
   "cell_type": "code",
   "execution_count": null,
   "metadata": {
    "id": "N5-9mneBiVE8"
   },
   "outputs": [],
   "source": []
  },
  {
   "cell_type": "markdown",
   "metadata": {
    "id": "tOOFfQIWh3_G"
   },
   "source": [
    "### Model Performance Improvement"
   ]
  },
  {
   "cell_type": "code",
   "execution_count": null,
   "metadata": {
    "id": "D4H3HH5zh4dG"
   },
   "outputs": [],
   "source": []
  },
  {
   "cell_type": "markdown",
   "metadata": {
    "id": "36XMQ7JKjFyx"
   },
   "source": [
    "## Model Comparison and Final Model Selection"
   ]
  },
  {
   "cell_type": "code",
   "execution_count": null,
   "metadata": {
    "id": "jvq640U7kWZF"
   },
   "outputs": [],
   "source": []
  },
  {
   "cell_type": "markdown",
   "metadata": {
    "id": "vb-iuMZQkcDL"
   },
   "source": [
    "## Actionable Insights and Business Recommendations\n"
   ]
  },
  {
   "cell_type": "markdown",
   "metadata": {
    "id": "H_-eZCetiDXK"
   },
   "source": [
    "* What recommedations would you suggest to the bank?"
   ]
  },
  {
   "cell_type": "markdown",
   "metadata": {
    "id": "vX7N2zFwS1nV"
   },
   "source": [
    "___"
   ]
  }
 ],
 "metadata": {
  "colab": {
   "collapsed_sections": [
    "dHp26RRERvXx",
    "D0cilOy9yeK7",
    "vUbDMkrLQb8U",
    "9KgxRHBOy6fn",
    "ZCM6avoA39FB",
    "f4lwYN5bYmHp",
    "I8KXyX2cYnxg",
    "n0zOSq9mieSG",
    "tOOFfQIWh3_G",
    "36XMQ7JKjFyx",
    "vb-iuMZQkcDL"
   ],
   "provenance": []
  },
  "kernelspec": {
   "display_name": "Python 3",
   "language": "python",
   "name": "python3"
  },
  "language_info": {
   "codemirror_mode": {
    "name": "ipython",
    "version": 3
   },
   "file_extension": ".py",
   "mimetype": "text/x-python",
   "name": "python",
   "nbconvert_exporter": "python",
   "pygments_lexer": "ipython3",
   "version": "3.8.8"
  }
 },
 "nbformat": 4,
 "nbformat_minor": 0
}
